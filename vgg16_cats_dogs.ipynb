{
  "cells": [
    {
      "cell_type": "code",
      "execution_count": null,
      "metadata": {
        "id": "tUhhAgMMYQf7"
      },
      "outputs": [],
      "source": [
        "#@title Run on TensorFlow 2.x\n",
        "%tensorflow_version 2.x\n",
        "from __future__ import absolute_import, division, print_function, unicode_literals\n"
      ]
    },
    {
      "cell_type": "code",
      "execution_count": null,
      "metadata": {
        "id": "TF5ZxEdGYT5M"
      },
      "outputs": [],
      "source": [
        "#@title Import relevant modules\n",
        "import numpy as np\n",
        "import pandas as pd\n",
        "import tensorflow as tf\n",
        "from tensorflow import keras\n",
        "from tensorflow.keras import layers\n",
        "from tensorflow.keras.preprocessing.image import ImageDataGenerator\n",
        "\n",
        "import itertools\n",
        "# import os\n",
        "# import shutil\n",
        "# import random\n",
        "# import glob\n",
        "from matplotlib import pyplot as plt\n",
        "# import warnings\n",
        "import seaborn as sns\n",
        "# warnings.simplefilter(action='ignore', category=FutureWarning)\n",
        "%matplotlib inline"
      ]
    },
    {
      "cell_type": "code",
      "execution_count": null,
      "metadata": {
        "colab": {
          "base_uri": "https://localhost:8080/",
          "height": 232
        },
        "id": "Eui3wNmvYUJ4",
        "outputId": "deaffd21-0fbf-4f13-a1ad-2d6c3ad872fe"
      },
      "outputs": [
        {
          "ename": "NameError",
          "evalue": "ignored",
          "output_type": "error",
          "traceback": [
            "\u001b[0;31m---------------------------------------------------------------------------\u001b[0m\n",
            "\u001b[0;31mNameError\u001b[0m                                 Traceback (most recent call last)\n",
            "\u001b[0;32m<ipython-input-3-c0b3dea65baf>\u001b[0m in \u001b[0;36m<module>\u001b[0;34m()\u001b[0m\n",
            "\u001b[1;32m      1\u001b[0m \u001b[0;31m# Create train, validation and test subsets\u001b[0m\u001b[0;34m\u001b[0m\u001b[0;34m\u001b[0m\u001b[0;34m\u001b[0m\u001b[0m\n",
            "\u001b[0;32m----> 2\u001b[0;31m \u001b[0mos\u001b[0m\u001b[0;34m.\u001b[0m\u001b[0mchdir\u001b[0m\u001b[0;34m(\u001b[0m\u001b[0;34m'data/dogs-vs-cats'\u001b[0m\u001b[0;34m)\u001b[0m\u001b[0;34m\u001b[0m\u001b[0;34m\u001b[0m\u001b[0m\n",
            "\u001b[0m\u001b[1;32m      3\u001b[0m \u001b[0;32mif\u001b[0m \u001b[0mos\u001b[0m\u001b[0;34m.\u001b[0m\u001b[0mpath\u001b[0m\u001b[0;34m.\u001b[0m\u001b[0misdir\u001b[0m\u001b[0;34m(\u001b[0m\u001b[0;34m'train/dog'\u001b[0m\u001b[0;34m)\u001b[0m \u001b[0;32mis\u001b[0m \u001b[0;32mFalse\u001b[0m\u001b[0;34m:\u001b[0m\u001b[0;34m\u001b[0m\u001b[0;34m\u001b[0m\u001b[0m\n",
            "\u001b[1;32m      4\u001b[0m   \u001b[0mos\u001b[0m\u001b[0;34m.\u001b[0m\u001b[0mmakedir\u001b[0m\u001b[0;34m(\u001b[0m\u001b[0;34m'train/dog'\u001b[0m\u001b[0;34m)\u001b[0m\u001b[0;34m\u001b[0m\u001b[0;34m\u001b[0m\u001b[0m\n",
            "\u001b[1;32m      5\u001b[0m   \u001b[0mos\u001b[0m\u001b[0;34m.\u001b[0m\u001b[0mmakedir\u001b[0m\u001b[0;34m(\u001b[0m\u001b[0;34m'train/cat'\u001b[0m\u001b[0;34m)\u001b[0m\u001b[0;34m\u001b[0m\u001b[0;34m\u001b[0m\u001b[0m\n",
            "\n",
            "\u001b[0;31mNameError\u001b[0m: name 'os' is not defined"
          ]
        }
      ],
      "source": [
        "# Create train, validation and test subsets\n",
        "os.chdir('data/dogs-vs-cats')\n",
        "if os.path.isdir('train/dog') is False:\n",
        "  os.makedir('train/dog')\n",
        "  os.makedir('train/cat')\n",
        "  os.makedir('valid/dog')\n",
        "  os.makedir('valid/cat')\n",
        "  os.makedir('test/dog')\n",
        "  os.makedir('test/cat')\n",
        "\n",
        "  for c in random.sample(glob.glob('cat*'), 500):\n",
        "    shutil.move(c, 'train/cat')\n",
        "  for c in random.sample(glob.glob('dog*'), 500):\n",
        "    shutil.move(c, 'train/dog')\n",
        "  for c in random.sample(glob.glob('cat*'), 100):\n",
        "    shutil.move(c, 'valid/cat')\n",
        "  for c in random.sample(glob.glob('dog*'), 100):\n",
        "    shutil.move(c, 'valid/dog')\n",
        "  for c in random.sample(glob.glob('cat*'), 50):\n",
        "    shutil.move(c, 'test/cat')\n",
        "  for c in random.sample(glob.glob('dog*'), 50):\n",
        "    shutil.move(c, 'test/dog')\n",
        "\n",
        "os.chdir('../../')\n"
      ]
    },
    {
      "cell_type": "code",
      "execution_count": null,
      "metadata": {
        "id": "lG7UOC5vYUNw"
      },
      "outputs": [],
      "source": [
        "#set paths \n",
        "train_path = '/content/drive/MyDrive/Cats_Dogs/train'\n",
        "valid_path = '/content/drive/MyDrive/Cats_Dogs/valid'\n",
        "test_path = '/content/drive/MyDrive/Cats_Dogs/test'"
      ]
    },
    {
      "cell_type": "code",
      "execution_count": null,
      "metadata": {
        "id": "eO6G4OQXBwVK"
      },
      "outputs": [],
      "source": []
    },
    {
      "cell_type": "code",
      "execution_count": null,
      "metadata": {
        "id": "DLMjRXYZYURo"
      },
      "outputs": [],
      "source": []
    },
    {
      "cell_type": "code",
      "execution_count": null,
      "metadata": {
        "id": "On4N1pw_AAca"
      },
      "outputs": [],
      "source": []
    },
    {
      "cell_type": "code",
      "execution_count": null,
      "metadata": {
        "id": "ifp5tAcq-FyH"
      },
      "outputs": [],
      "source": [
        "def plotImages(images_arr):\n",
        "  fig, axes = plt.subplots(1, 10, figsize = (20,20))\n",
        "  axes = axes.flatten()\n",
        "  for img, ax in zip(images_arr, axes):\n",
        "    ax.imshow(img)\n",
        "    ax.axis('off')\n",
        "  plt.tight_layout()\n",
        "  plt.show()"
      ]
    },
    {
      "cell_type": "code",
      "execution_count": null,
      "metadata": {
        "id": "N6TY1uwW-oXu"
      },
      "outputs": [],
      "source": [
        "plotImages(img)\n",
        "print(labels)"
      ]
    },
    {
      "cell_type": "code",
      "execution_count": null,
      "metadata": {
        "id": "eW6h6YD8SOyZ"
      },
      "outputs": [],
      "source": []
    },
    {
      "cell_type": "code",
      "execution_count": null,
      "metadata": {
        "id": "9CwRjWxBUH-t"
      },
      "outputs": [],
      "source": []
    },
    {
      "cell_type": "code",
      "execution_count": null,
      "metadata": {
        "id": "J2BYGxAFSS4E"
      },
      "outputs": [],
      "source": []
    },
    {
      "cell_type": "markdown",
      "metadata": {
        "id": "8unlx8ePAMIE"
      },
      "source": [
        "Import the pre-trained model"
      ]
    },
    {
      "cell_type": "code",
      "execution_count": null,
      "metadata": {
        "colab": {
          "base_uri": "https://localhost:8080/"
        },
        "id": "uXDmkNIs9s_-",
        "outputId": "f13110da-60b1-47a8-cf13-ecb8e7dcdb97"
      },
      "outputs": [
        {
          "name": "stdout",
          "output_type": "stream",
          "text": [
            "Downloading data from https://storage.googleapis.com/tensorflow/keras-applications/vgg16/vgg16_weights_tf_dim_ordering_tf_kernels.h5\n",
            "553467904/553467096 [==============================] - 4s 0us/step\n",
            "553476096/553467096 [==============================] - 4s 0us/step\n"
          ]
        }
      ],
      "source": [
        "vgg16_model = tf.keras.applications.vgg16.VGG16()"
      ]
    },
    {
      "cell_type": "code",
      "execution_count": null,
      "metadata": {
        "id": "Q0Srmlt2ALj3"
      },
      "outputs": [],
      "source": [
        "vgg16_model.summary()"
      ]
    },
    {
      "cell_type": "code",
      "execution_count": null,
      "metadata": {
        "id": "ZoK60v3hAXs9"
      },
      "outputs": [],
      "source": [
        "# Create sequential model with layers set to layers of vgg16\n",
        "model = keras.Sequential()\n",
        "for layer in vgg16_model.layers[:-1]:\n",
        "  model.add(layer)"
      ]
    },
    {
      "cell_type": "code",
      "execution_count": null,
      "metadata": {
        "id": "E_IfUxvFCHGG"
      },
      "outputs": [],
      "source": [
        "# Prevent alteration of model\n",
        "for layer in model.layers:\n",
        "  layer.trainable = False"
      ]
    },
    {
      "cell_type": "code",
      "execution_count": null,
      "metadata": {
        "id": "JhJNZ5imCdaf"
      },
      "outputs": [],
      "source": [
        "# add output layer\n",
        "model.add(layers.Dense(units=2, activation = 'softmax'))"
      ]
    },
    {
      "cell_type": "code",
      "execution_count": null,
      "metadata": {
        "id": "e5SmpWgYXW_m"
      },
      "outputs": [],
      "source": []
    },
    {
      "cell_type": "code",
      "execution_count": null,
      "metadata": {
        "id": "fuc34YXdCfvL"
      },
      "outputs": [],
      "source": [
        "# compile model\n",
        "model.compile(optimizer=keras.optimizers.Adam(learning_rate=0.0001), loss='categorical_crossentropy', metrics=['accuracy'])"
      ]
    },
    {
      "cell_type": "code",
      "execution_count": null,
      "metadata": {
        "id": "BYBqbR_mwE8I"
      },
      "outputs": [],
      "source": [
        "#set paths \n",
        "test_path2 = '/content/drive/MyDrive/Cats_Dogs/test2'"
      ]
    },
    {
      "cell_type": "code",
      "execution_count": null,
      "metadata": {
        "colab": {
          "base_uri": "https://localhost:8080/"
        },
        "id": "ZKBWI-q4XYoA",
        "outputId": "4a4f4268-0596-439c-b667-d6dce83fa656"
      },
      "outputs": [
        {
          "name": "stdout",
          "output_type": "stream",
          "text": [
            "Found 1000 images belonging to 2 classes.\n",
            "Found 200 images belonging to 2 classes.\n",
            "Found 100 images belonging to 2 classes.\n"
          ]
        }
      ],
      "source": [
        "# \n",
        "# \n",
        "train_batches = ImageDataGenerator(preprocessing_function=tf.keras.applications.vgg16.preprocess_input).flow_from_directory(directory=train_path, target_size=(224,224), classes=['cat','dog'], batch_size=10)\n",
        "valid_batches = ImageDataGenerator(preprocessing_function=tf.keras.applications.vgg16.preprocess_input).flow_from_directory(directory=valid_path, target_size=(224,224), classes=['cat','dog'], batch_size=10)\n",
        "test_batches = ImageDataGenerator(preprocessing_function=tf.keras.applications.vgg16.preprocess_input).flow_from_directory(directory=test_path, classes=None, target_size=(224,224), batch_size=10, shuffle=False)"
      ]
    },
    {
      "cell_type": "code",
      "execution_count": null,
      "metadata": {
        "colab": {
          "base_uri": "https://localhost:8080/"
        },
        "id": "hNTHGVnJCf4C",
        "outputId": "f0ffaf4e-9277-46f0-854b-545f11ebe698"
      },
      "outputs": [
        {
          "name": "stdout",
          "output_type": "stream",
          "text": [
            "Epoch 1/5\n",
            "100/100 [==============================] - 615s 6s/step - loss: 0.0023 - accuracy: 0.9990 - val_loss: 0.0728 - val_accuracy: 0.9850\n",
            "Epoch 2/5\n",
            "100/100 [==============================] - 615s 6s/step - loss: 7.1102e-04 - accuracy: 1.0000 - val_loss: 0.0756 - val_accuracy: 0.9800\n",
            "Epoch 3/5\n",
            "100/100 [==============================] - 613s 6s/step - loss: 4.1456e-04 - accuracy: 1.0000 - val_loss: 0.0755 - val_accuracy: 0.9800\n",
            "Epoch 4/5\n",
            "100/100 [==============================] - 613s 6s/step - loss: 3.1864e-04 - accuracy: 1.0000 - val_loss: 0.0757 - val_accuracy: 0.9800\n",
            "Epoch 5/5\n",
            "100/100 [==============================] - 612s 6s/step - loss: 2.5488e-04 - accuracy: 1.0000 - val_loss: 0.0763 - val_accuracy: 0.9800\n"
          ]
        },
        {
          "data": {
            "text/plain": [
              "<keras.callbacks.History at 0x7f1f18dd5c50>"
            ]
          },
          "metadata": {},
          "output_type": "display_data"
        }
      ],
      "source": [
        "# fit model\n",
        "model.fit(\n",
        "        train_batches,\n",
        "        steps_per_epoch=100,\n",
        "        epochs=5,\n",
        "        validation_data=valid_batches,\n",
        "        validation_steps=20)"
      ]
    },
    {
      "cell_type": "code",
      "execution_count": null,
      "metadata": {
        "id": "WNO4VzhSCf7G"
      },
      "outputs": [],
      "source": [
        "# Predict images in test set with model \n",
        "predictions = model.predict(test_batches, verbose=0)"
      ]
    },
    {
      "cell_type": "code",
      "execution_count": null,
      "metadata": {
        "colab": {
          "base_uri": "https://localhost:8080/"
        },
        "id": "06o8k4ntxVOY",
        "outputId": "27980a15-f96f-4111-e2cb-f41b74aeec8c"
      },
      "outputs": [
        {
          "name": "stdout",
          "output_type": "stream",
          "text": [
            "<class 'numpy.ndarray'>\n"
          ]
        }
      ],
      "source": [
        "print(type(predictions))"
      ]
    },
    {
      "cell_type": "code",
      "execution_count": null,
      "metadata": {
        "colab": {
          "base_uri": "https://localhost:8080/"
        },
        "id": "cm4gSblcHwqJ",
        "outputId": "84f21a4f-7d0a-49da-f627-9d9681db2be8"
      },
      "outputs": [
        {
          "data": {
            "text/plain": [
              "array([0, 0, 0, 0, 0, 0, 0, 0, 0, 0, 0, 0, 0, 0, 0, 0, 0, 0, 0, 0, 0, 0,\n",
              "       0, 0, 0, 0, 0, 0, 0, 0, 0, 0, 0, 0, 0, 0, 0, 0, 0, 0, 0, 0, 0, 0,\n",
              "       0, 0, 0, 0, 0, 0, 1, 1, 1, 1, 1, 1, 1, 1, 1, 1, 1, 1, 1, 1, 1, 1,\n",
              "       1, 1, 1, 1, 1, 1, 1, 1, 1, 1, 1, 1, 1, 1, 1, 1, 1, 1, 1, 1, 1, 1,\n",
              "       1, 1, 1, 1, 1, 1, 1, 1, 1, 1, 1, 1], dtype=int32)"
            ]
          },
          "metadata": {},
          "output_type": "display_data"
        }
      ],
      "source": [
        "test_batches.classes"
      ]
    },
    {
      "cell_type": "code",
      "execution_count": null,
      "metadata": {
        "id": "AetBGQYBxmvL"
      },
      "outputs": [],
      "source": [
        "test_batches.class_indices"
      ]
    },
    {
      "cell_type": "code",
      "execution_count": null,
      "metadata": {
        "colab": {
          "base_uri": "https://localhost:8080/"
        },
        "id": "V1WkLtRzHw6h",
        "outputId": "c376e4bb-9b67-48f0-adab-31bb6eb25286"
      },
      "outputs": [
        {
          "data": {
            "text/plain": [
              "array([0, 0, 0, 0, 0, 0, 0, 0, 0, 1, 0, 0, 0, 0, 0, 0, 0, 0, 0, 0, 0, 0,\n",
              "       0, 0, 0, 0, 0, 0, 0, 0, 0, 0, 0, 0, 0, 0, 0, 0, 0, 0, 0, 0, 0, 0,\n",
              "       0, 0, 0, 0, 0, 0, 1, 1, 1, 1, 1, 1, 1, 1, 1, 1, 1, 1, 1, 1, 1, 1,\n",
              "       1, 1, 1, 1, 1, 1, 1, 0, 1, 1, 1, 1, 1, 1, 1, 1, 1, 1, 1, 1, 1, 1,\n",
              "       1, 1, 1, 1, 1, 1, 1, 1, 1, 1, 0, 1])"
            ]
          },
          "metadata": {},
          "output_type": "display_data"
        }
      ],
      "source": [
        "x = []\n",
        "for i in range(len(predictions)):\n",
        "  if predictions[i][0]>=predictions[i][1]:\n",
        "    x.append(0)\n",
        "  else:\n",
        "    x.append(1)\n",
        "answers = np.array(x)\n",
        "answers"
      ]
    },
    {
      "cell_type": "code",
      "execution_count": null,
      "metadata": {
        "colab": {
          "base_uri": "https://localhost:8080/",
          "height": 296
        },
        "id": "2ShX8z9UHxF_",
        "outputId": "fe01db8e-607c-4235-e124-5200804737f7"
      },
      "outputs": [
        {
          "data": {
            "text/plain": [
              "<sklearn.metrics._plot.confusion_matrix.ConfusionMatrixDisplay at 0x7f1f18bfbe90>"
            ]
          },
          "metadata": {},
          "output_type": "display_data"
        },
        {
          "data": {
            "image/png": "[encoded data removed]",
            "text/plain": [
              "<Figure size 432x288 with 2 Axes>"
            ]
          },
          "metadata": {},
          "output_type": "display_data"
        }
      ],
      "source": [
        "from sklearn.metrics import confusion_matrix, ConfusionMatrixDisplay\n",
        "cm = confusion_matrix(test_batches.classes, answers)\n",
        "disp = ConfusionMatrixDisplay(cm)\n",
        "disp.plot()\n"
      ]
    }
  ],
  "metadata": {
    "colab": {
      "collapsed_sections": [],
      "name": "vgg16_cats_dogs.ipynb",
      "provenance": []
    },
    "kernelspec": {
      "display_name": "Python 3",
      "name": "python3"
    },
    "language_info": {
      "name": "python"
    }
  },
  "nbformat": 4,
  "nbformat_minor": 0
}
