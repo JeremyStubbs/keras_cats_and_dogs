{
  "cells": [
    {
      "cell_type": "code",
      "execution_count": null,
      "metadata": {
        "id": "tUhhAgMMYQf7"
      },
      "outputs": [],
      "source": [
        "#@title Run on TensorFlow 2.x\n",
        "%tensorflow_version 2.x\n",
        "from __future__ import absolute_import, division, print_function, unicode_literals\n"
      ]
    },
    {
      "cell_type": "code",
      "execution_count": 2,
      "metadata": {
        "id": "TF5ZxEdGYT5M"
      },
      "outputs": [],
      "source": [
        "#@title Import relevant modules\n",
        "import numpy as np\n",
        "import pandas as pd\n",
        "import tensorflow as tf\n",
        "from tensorflow import keras\n",
        "from tensorflow.keras import layers\n",
        "from tensorflow.keras.preprocessing.image import ImageDataGenerator\n",
        "\n",
        "import cv2\n",
        "# import os\n",
        "# import shutil\n",
        "# import random\n",
        "# import glob\n",
        "from matplotlib import pyplot as plt\n",
        "# import warnings\n",
        "# import seaborn as sns\n",
        "# warnings.simplefilter(action='ignore', category=FutureWarning)\n",
        "%matplotlib inline"
      ]
    },
    {
      "cell_type": "code",
      "execution_count": 3,
      "metadata": {
        "id": "lG7UOC5vYUNw"
      },
      "outputs": [],
      "source": [
        "#set paths \n",
        "train_path = '/Users/jeremystubbs/Desktop/googledata_cats_and_dogs/train'\n",
        "valid_path = '/Users/jeremystubbs/Desktop/googledata_cats_and_dogs/validation'\n",
        "test_path = '/Users/jeremystubbs/Desktop/googledata_cats_and_dogs/test'"
      ]
    },
    {
      "cell_type": "code",
      "execution_count": 4,
      "metadata": {
        "id": "ifp5tAcq-FyH"
      },
      "outputs": [],
      "source": [
        "def plotImages(images_arr):\n",
        "  fig, axes = plt.subplots(1, 10, figsize = (20,20))\n",
        "  axes = axes.flatten()\n",
        "  for img, ax in zip(images_arr, axes):\n",
        "    ax.imshow(img)\n",
        "    ax.axis('off')\n",
        "  plt.tight_layout()\n",
        "  plt.show()"
      ]
    },
    {
      "cell_type": "markdown",
      "metadata": {
        "id": "8unlx8ePAMIE"
      },
      "source": [
        "Import the pre-trained model"
      ]
    },
    {
      "cell_type": "code",
      "execution_count": 4,
      "metadata": {
        "colab": {
          "base_uri": "https://localhost:8080/"
        },
        "id": "uXDmkNIs9s_-",
        "outputId": "f13110da-60b1-47a8-cf13-ecb8e7dcdb97"
      },
      "outputs": [],
      "source": [
        "vgg16_model = tf.keras.applications.vgg16.VGG16()"
      ]
    },
    {
      "cell_type": "code",
      "execution_count": null,
      "metadata": {
        "id": "Q0Srmlt2ALj3"
      },
      "outputs": [],
      "source": [
        "vgg16_model.summary()"
      ]
    },
    {
      "cell_type": "code",
      "execution_count": 5,
      "metadata": {
        "id": "ZoK60v3hAXs9"
      },
      "outputs": [],
      "source": [
        "# Create sequential model with layers set to layers of vgg16\n",
        "model = keras.Sequential()\n",
        "for layer in vgg16_model.layers[:-1]:\n",
        "  model.add(layer)"
      ]
    },
    {
      "cell_type": "code",
      "execution_count": 6,
      "metadata": {
        "id": "E_IfUxvFCHGG"
      },
      "outputs": [],
      "source": [
        "# Prevent alteration of model\n",
        "for layer in model.layers:\n",
        "  layer.trainable = False"
      ]
    },
    {
      "cell_type": "code",
      "execution_count": 7,
      "metadata": {
        "id": "JhJNZ5imCdaf"
      },
      "outputs": [],
      "source": [
        "# add output layer\n",
        "model.add(layers.Dense(units=2, activation = 'softmax'))"
      ]
    },
    {
      "cell_type": "code",
      "execution_count": 8,
      "metadata": {
        "id": "fuc34YXdCfvL"
      },
      "outputs": [],
      "source": [
        "# compile model\n",
        "model.compile(optimizer=keras.optimizers.Adam(learning_rate=0.0001), loss='categorical_crossentropy', metrics=['accuracy'])"
      ]
    },
    {
      "cell_type": "code",
      "execution_count": 9,
      "metadata": {
        "colab": {
          "base_uri": "https://localhost:8080/"
        },
        "id": "ZKBWI-q4XYoA",
        "outputId": "4a4f4268-0596-439c-b667-d6dce83fa656"
      },
      "outputs": [
        {
          "name": "stdout",
          "output_type": "stream",
          "text": [
            "Found 2000 images belonging to 2 classes.\n",
            "Found 1000 images belonging to 2 classes.\n"
          ]
        }
      ],
      "source": [
        "# # \n",
        "BATCH_SIZE = 10\n",
        "IMG_SIZE=(224,224)\n",
        "train_dataset = ImageDataGenerator(preprocessing_function=tf.keras.applications.vgg16.preprocess_input).flow_from_directory(directory=train_path, target_size=(224,224), classes=['cats','dogs'], batch_size=10)\n",
        "validation_dataset = ImageDataGenerator(preprocessing_function=tf.keras.applications.vgg16.preprocess_input).flow_from_directory(directory=valid_path, target_size=(224,224), classes=['cats','dogs'], batch_size=10)\n",
        "# test_batches = ImageDataGenerator(preprocessing_function=tf.keras.applications.vgg16.preprocess_input).flow_from_directory(directory=test_path, classes=None, target_size=(224,224), batch_size=10, shuffle=False)\n",
        "\n",
        "\n",
        "# train_dataset = tf.keras.utils.image_dataset_from_directory(train_path,\n",
        "#                                                             shuffle=True,\n",
        "#                                                             batch_size=BATCH_SIZE,\n",
        "#                                                             image_size=IMG_SIZE)\n",
        "\n",
        "# validation_dataset = tf.keras.utils.image_dataset_from_directory(valid_path,\n",
        "#                                                                  shuffle=True,\n",
        "#                                                                  batch_size=BATCH_SIZE,\n",
        "#                                                                  image_size=IMG_SIZE)\n"
      ]
    },
    {
      "cell_type": "code",
      "execution_count": 10,
      "metadata": {
        "colab": {
          "base_uri": "https://localhost:8080/"
        },
        "id": "hNTHGVnJCf4C",
        "outputId": "f0ffaf4e-9277-46f0-854b-545f11ebe698"
      },
      "outputs": [
        {
          "name": "stderr",
          "output_type": "stream",
          "text": [
            "2022-04-27 08:15:02.101396: W tensorflow/core/platform/profile_utils/cpu_utils.cc:128] Failed to get CPU frequency: 0 Hz\n"
          ]
        },
        {
          "name": "stdout",
          "output_type": "stream",
          "text": [
            "Epoch 1/5\n",
            "100/100 [==============================] - 185s 2s/step - loss: 0.3929 - accuracy: 0.8330 - val_loss: 0.1218 - val_accuracy: 0.9650\n",
            "Epoch 2/5\n",
            "100/100 [==============================] - 188s 2s/step - loss: 0.1095 - accuracy: 0.9600 - val_loss: 0.0835 - val_accuracy: 0.9800\n",
            "Epoch 3/5\n",
            "100/100 [==============================] - 200s 2s/step - loss: 0.0801 - accuracy: 0.9770 - val_loss: 0.0571 - val_accuracy: 0.9800\n",
            "Epoch 4/5\n",
            "100/100 [==============================] - 190s 2s/step - loss: 0.0611 - accuracy: 0.9820 - val_loss: 0.0761 - val_accuracy: 0.9750\n",
            "Epoch 5/5\n",
            "100/100 [==============================] - 241s 2s/step - loss: 0.0589 - accuracy: 0.9830 - val_loss: 0.0953 - val_accuracy: 0.9650\n"
          ]
        },
        {
          "data": {
            "text/plain": [
              "<keras.callbacks.History at 0x1567c4f70>"
            ]
          },
          "execution_count": 10,
          "metadata": {},
          "output_type": "execute_result"
        }
      ],
      "source": [
        "# fit model\n",
        "model.fit(\n",
        "        train_dataset,\n",
        "        steps_per_epoch=100,\n",
        "        epochs=5,\n",
        "        validation_data=validation_dataset,\n",
        "        validation_steps=20)"
      ]
    },
    {
      "cell_type": "code",
      "execution_count": 11,
      "metadata": {
        "colab": {
          "base_uri": "https://localhost:8080/"
        },
        "id": "06o8k4ntxVOY",
        "outputId": "27980a15-f96f-4111-e2cb-f41b74aeec8c"
      },
      "outputs": [
        {
          "name": "stdout",
          "output_type": "stream",
          "text": [
            "<class 'numpy.ndarray'> (1, 224, 224, 3)\n"
          ]
        }
      ],
      "source": [
        "# Predict images in test set with model \n",
        "img = cv2.imread(\"dog2.jpg\")\n",
        "resized = cv2.resize(img, (224, 224))\n",
        "reshaped = resized.reshape(1, 224, 224, 3)\n",
        "print(type(reshaped), reshaped.shape)\n",
        "\n",
        "\n",
        "# tf.keras.applications.vgg16.preprocess_input(img)\n",
        "predictions = model.predict(reshaped, verbose=0)"
      ]
    },
    {
      "cell_type": "code",
      "execution_count": 12,
      "metadata": {
        "colab": {
          "base_uri": "https://localhost:8080/"
        },
        "id": "cm4gSblcHwqJ",
        "outputId": "84f21a4f-7d0a-49da-f627-9d9681db2be8"
      },
      "outputs": [
        {
          "name": "stdout",
          "output_type": "stream",
          "text": [
            "[[7.706941e-05 9.999229e-01]]\n"
          ]
        }
      ],
      "source": [
        "print(predictions)"
      ]
    },
    {
      "cell_type": "code",
      "execution_count": null,
      "metadata": {
        "colab": {
          "base_uri": "https://localhost:8080/"
        },
        "id": "V1WkLtRzHw6h",
        "outputId": "c376e4bb-9b67-48f0-adab-31bb6eb25286"
      },
      "outputs": [
        {
          "data": {
            "text/plain": [
              "array([0, 0, 0, 0, 0, 0, 0, 0, 0, 1, 0, 0, 0, 0, 0, 0, 0, 0, 0, 0, 0, 0,\n",
              "       0, 0, 0, 0, 0, 0, 0, 0, 0, 0, 0, 0, 0, 0, 0, 0, 0, 0, 0, 0, 0, 0,\n",
              "       0, 0, 0, 0, 0, 0, 1, 1, 1, 1, 1, 1, 1, 1, 1, 1, 1, 1, 1, 1, 1, 1,\n",
              "       1, 1, 1, 1, 1, 1, 1, 0, 1, 1, 1, 1, 1, 1, 1, 1, 1, 1, 1, 1, 1, 1,\n",
              "       1, 1, 1, 1, 1, 1, 1, 1, 1, 1, 0, 1])"
            ]
          },
          "metadata": {},
          "output_type": "display_data"
        }
      ],
      "source": [
        "x = []\n",
        "for i in range(len(predictions)):\n",
        "  if predictions[i][0]>=predictions[i][1]:\n",
        "    x.append(0)\n",
        "  else:\n",
        "    x.append(1)\n",
        "answers = np.array(x)\n",
        "answers"
      ]
    },
    {
      "cell_type": "code",
      "execution_count": null,
      "metadata": {
        "colab": {
          "base_uri": "https://localhost:8080/",
          "height": 296
        },
        "id": "2ShX8z9UHxF_",
        "outputId": "fe01db8e-607c-4235-e124-5200804737f7"
      },
      "outputs": [
        {
          "data": {
            "text/plain": [
              "<sklearn.metrics._plot.confusion_matrix.ConfusionMatrixDisplay at 0x7f1f18bfbe90>"
            ]
          },
          "metadata": {},
          "output_type": "display_data"
        },
        {
          "data": {
            "image/png": "[encoded data removed]",
            "text/plain": [
              "<Figure size 432x288 with 2 Axes>"
            ]
          },
          "metadata": {},
          "output_type": "display_data"
        }
      ],
      "source": [
        "from sklearn.metrics import confusion_matrix, ConfusionMatrixDisplay\n",
        "cm = confusion_matrix(test_batches.classes, answers)\n",
        "disp = ConfusionMatrixDisplay(cm)\n",
        "disp.plot()\n"
      ]
    }
  ],
  "metadata": {
    "colab": {
      "collapsed_sections": [],
      "name": "vgg16_cats_dogs.ipynb",
      "provenance": []
    },
    "kernelspec": {
      "display_name": "Python 3",
      "name": "python3"
    },
    "language_info": {
      "codemirror_mode": {
        "name": "ipython",
        "version": 3
      },
      "file_extension": ".py",
      "mimetype": "text/x-python",
      "name": "python",
      "nbconvert_exporter": "python",
      "pygments_lexer": "ipython3",
      "version": "3.10.4"
    }
  },
  "nbformat": 4,
  "nbformat_minor": 0
}
